{
  "nbformat": 4,
  "nbformat_minor": 0,
  "metadata": {
    "colab": {
      "provenance": []
    },
    "kernelspec": {
      "name": "python3",
      "display_name": "Python 3"
    },
    "language_info": {
      "name": "python"
    }
  },
  "cells": [
    {
      "cell_type": "code",
      "source": [
        "from pyspark.sql import SparkSession"
      ],
      "metadata": {
        "id": "YHX6R2bEomjA"
      },
      "execution_count": 1,
      "outputs": []
    },
    {
      "cell_type": "code",
      "source": [
        "from pyspark.sql. functions import col, expr, mean, corr"
      ],
      "metadata": {
        "id": "lutInqDzopkw"
      },
      "execution_count": 2,
      "outputs": []
    },
    {
      "cell_type": "code",
      "source": [
        "spark = SparkSession.builder.appName(\"EjemploOperacionesPySpark\").getOrCreate()"
      ],
      "metadata": {
        "id": "3lRqOJTfotK5"
      },
      "execution_count": 3,
      "outputs": []
    },
    {
      "cell_type": "code",
      "source": [
        "data =[( \"jose\", 3, 1500), (\"elizabeth\", 1, 2500), (\"marcos\", 2, 2200), (\"rumy\", 4, 1800), (\"manuel\", 4, 2100), (\"petter\", 2, 1900), (\"claudio\", 3, 1700), (\"henry\", 3, 2000), (\"maria\", 2, 2300), (\"gustabo\", 3, 2400)]\n",
        "columns = [\"Nombre\", \"Hijos\", \"Ingreso\"]\n",
        "variable = spark.createDataFrame(data, columns)"
      ],
      "metadata": {
        "id": "d70-je_LqHJy"
      },
      "execution_count": 15,
      "outputs": []
    },
    {
      "cell_type": "code",
      "source": [
        "variable.select(mean(col(\"Hijos\")).alias(\"Media\")).show()"
      ],
      "metadata": {
        "colab": {
          "base_uri": "https://localhost:8080/"
        },
        "id": "u9VieJcsvDK6",
        "outputId": "4f54f175-833e-49b0-ba59-5a398bdd6105"
      },
      "execution_count": 16,
      "outputs": [
        {
          "output_type": "stream",
          "name": "stdout",
          "text": [
            "+-----+\n",
            "|Media|\n",
            "+-----+\n",
            "|  2.7|\n",
            "+-----+\n",
            "\n"
          ]
        }
      ]
    },
    {
      "cell_type": "code",
      "source": [
        "var_mediana = variable.approxQuantile(\"Hijos\", [0.5], 0.0)"
      ],
      "metadata": {
        "id": "ZRz6MGPKxqOi"
      },
      "execution_count": 17,
      "outputs": []
    },
    {
      "cell_type": "code",
      "source": [
        "print(\"la mediana es:\", var_mediana)"
      ],
      "metadata": {
        "colab": {
          "base_uri": "https://localhost:8080/"
        },
        "id": "ezEdNSNGxsnp",
        "outputId": "b831beb8-a829-4b48-ad60-434b36f9cb66"
      },
      "execution_count": 18,
      "outputs": [
        {
          "output_type": "stream",
          "name": "stdout",
          "text": [
            "la mediana es: [3.0]\n"
          ]
        }
      ]
    }
  ]
}