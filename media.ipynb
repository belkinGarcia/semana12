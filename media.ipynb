{
  "nbformat": 4,
  "nbformat_minor": 0,
  "metadata": {
    "colab": {
      "provenance": []
    },
    "kernelspec": {
      "name": "python3",
      "display_name": "Python 3"
    },
    "language_info": {
      "name": "python"
    }
  },
  "cells": [
    {
      "cell_type": "code",
      "source": [
        "from pyspark.sql import SparkSession"
      ],
      "metadata": {
        "id": "YHX6R2bEomjA"
      },
      "execution_count": 1,
      "outputs": []
    },
    {
      "cell_type": "code",
      "source": [
        "from pyspark.sql. functions import col, expr, mean, corr"
      ],
      "metadata": {
        "id": "lutInqDzopkw"
      },
      "execution_count": 2,
      "outputs": []
    },
    {
      "cell_type": "code",
      "source": [
        "spark = SparkSession.builder.appName(\"EjemploOperacionesPySpark\").getOrCreate()"
      ],
      "metadata": {
        "id": "3lRqOJTfotK5"
      },
      "execution_count": 3,
      "outputs": []
    },
    {
      "cell_type": "code",
      "source": [
        "data =[( \"jose\", 23, 1500), (\"elizabeth\", 45, 2500), (\"marcos\", 23, 2200), (\"rumy\", 34, 1800), (\"manuel\", 45, 2100), (\"petter\", 23, 1900), (\"claudio\", 30, 1700), (\"henry\", 34, 2000), (\"maria\",45, 2300), (\"gustabo\",23, 2400)]\n",
        "columns = [\"Nombre\", \"Edad\", \"Ingreso\"]\n",
        "variable = spark.createDataFrame(data, columns)"
      ],
      "metadata": {
        "id": "d70-je_LqHJy"
      },
      "execution_count": 11,
      "outputs": []
    },
    {
      "cell_type": "code",
      "source": [
        "variable.select(mean(col(\"Edad\")).alias(\"Media\")).show()"
      ],
      "metadata": {
        "colab": {
          "base_uri": "https://localhost:8080/"
        },
        "id": "u9VieJcsvDK6",
        "outputId": "7d2397cb-0592-4520-876d-264008bfbf8b"
      },
      "execution_count": 12,
      "outputs": [
        {
          "output_type": "stream",
          "name": "stdout",
          "text": [
            "+-----+\n",
            "|Media|\n",
            "+-----+\n",
            "| 32.5|\n",
            "+-----+\n",
            "\n"
          ]
        }
      ]
    }
  ]
}